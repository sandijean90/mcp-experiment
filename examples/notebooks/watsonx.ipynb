{
 "cells": [
  {
   "cell_type": "markdown",
   "metadata": {},
   "source": [
    "# watsonx X BeeAI \n",
    "\n",
    "This notebook showcases a series of examples that demonstrate how to integrate BeeAI with watsonx.\n",
    "\n",
    "To run these examples, you'll need a set of watsonx credentials:\n",
    "\n",
    "- WATSONX_API_KEY\n",
    "- WATSONX_PROJECT_ID\n",
    "- WATSONX_API_URL\n",
    "\n",
    "Please enter your credentials in the next cell before proceeding."
   ]
  },
  {
   "cell_type": "code",
   "execution_count": null,
   "metadata": {},
   "outputs": [],
   "source": [
    "WATSONX_API_KEY = \"\"\n",
    "WATSONX_PROJECT_ID = \"\"\n",
    "WATSONX_API_URL = \"\""
   ]
  },
  {
   "cell_type": "markdown",
   "metadata": {},
   "source": [
    "## WatsonX ChatModel\n",
    "\n",
    "This example demonstrates how to create a ChatModel to interface with the ibm/granite-3-8b-instruct model from watsonx."
   ]
  },
  {
   "cell_type": "code",
   "execution_count": null,
   "metadata": {},
   "outputs": [
    {
     "name": "stdout",
     "output_type": "stream",
     "text": [
      "Quantum computing is a type of computation that leverages the principles of quantum mechanics to process information. Unlike classical computers that use bits (0s and 1s) to process data, quantum computers use quantum bits, or qubits. Qubits can exist in multiple states at once, thanks to a property called superposition, and can also be entangled, meaning the state of one qubit can be dependent on the state of another, no matter the distance between them. This allows quantum computers to perform certain calculations much faster than classical computers.\n",
      "\n",
      "To illustrate, consider a scenario where you need to search through an unsorted phone book with a million entries to find a specific person's name. A classical computer would have to theoretically check each entry one by one until it found the name, taking up to a million steps. A quantum computer, using an algorithm like Grover's, could potentially solve this problem in roughly 1,000 steps. This is a simplification, as quantum computers aren't universally faster and face significant technical challenges, but it gives you the basic idea.\n",
      "\n",
      "Another famous example is Shor's algorithm, used for factoring large numbers into primes, which is central to many cryptographic systems. While classical computers would take an incredibly long time for very large numbers, a sufficiently powerful quantum computer could perform this task relatively quickly, effectively breaking many of our current encryption methods.\n"
     ]
    }
   ],
   "source": [
    "from beeai_framework.backend.chat import ChatModel, ChatModelOutput\n",
    "from beeai_framework.backend.message import UserMessage\n",
    "\n",
    "# Create a ChatModel to interface with ibm/granite-3-8b-instruct from watsonx\n",
    "model = ChatModel.from_name(\n",
    "    \"watsonx:ibm/granite-3-8b-instruct\",\n",
    "    options={\n",
    "        \"project_id\": WATSONX_PROJECT_ID,\n",
    "        \"api_key\": WATSONX_API_KEY,\n",
    "        \"api_base\": WATSONX_API_URL,\n",
    "    },\n",
    ")\n",
    "\n",
    "message = UserMessage(content=\"Briefly explain quantum computing in simple terms with an example.\")\n",
    "output: ChatModelOutput = await model.create(messages=[message])\n",
    "\n",
    "print(output.get_text_content())"
   ]
  },
  {
   "cell_type": "markdown",
   "metadata": {},
   "source": [
    "## Structured Outputs With watsonx\n",
    "\n",
    "This example demonstrates how to generate structured output using the ibm/granite-3-8b-instruct model from watsonx."
   ]
  },
  {
   "metadata": {},
   "cell_type": "code",
   "outputs": [],
   "execution_count": null,
   "source": [
    "import json\n",
    "\n",
    "from pydantic import BaseModel, Field\n",
    "\n",
    "\n",
    "# The output structure definition, note the field descriptions that can help the LLM to understand the intention of the field.\n",
    "class BookDetailsSchema(BaseModel):\n",
    "    title: str = Field(description=\"The title of the book.\")\n",
    "    author: str = Field(description=\"The author of the book.\")\n",
    "    plot_summary: str = Field(description=\"A brief summary of the plot.\")\n",
    "\n",
    "\n",
    "user_message = UserMessage(\"Provide a summary of the following book: 'Dune' by Frank Herbert.\")\n",
    "\n",
    "response = await model.create_structure(schema=BookDetailsSchema, messages=[user_message])\n",
    "\n",
    "print(json.dumps(response.object, indent=4))"
   ]
  }
 ],
 "metadata": {
  "kernelspec": {
   "display_name": ".venv",
   "language": "python",
   "name": "python3"
  },
  "language_info": {
   "codemirror_mode": {
    "name": "ipython",
    "version": 3
   },
   "file_extension": ".py",
   "mimetype": "text/x-python",
   "name": "python",
   "nbconvert_exporter": "python",
   "pygments_lexer": "ipython3",
   "version": "3.12.6"
  }
 },
 "nbformat": 4,
 "nbformat_minor": 2
}
